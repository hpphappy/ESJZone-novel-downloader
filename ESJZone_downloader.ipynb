{
 "cells": [
  {
   "cell_type": "code",
   "execution_count": 1,
   "metadata": {},
   "outputs": [],
   "source": [
    "import os\n",
    "import numpy as np\n",
    "import requests\n",
    "from bs4 import BeautifulSoup\n",
    "from tqdm import tqdm\n",
    "from stat import S_IREAD"
   ]
  },
  {
   "cell_type": "markdown",
   "metadata": {},
   "source": [
    "# Define the function"
   ]
  },
  {
   "cell_type": "code",
   "execution_count": 2,
   "metadata": {},
   "outputs": [],
   "source": [
    "def extract_html(url, save_folder, chapter_name):  \n",
    "    \"\"\"\n",
    "    Given the url of a chapter, \n",
    "    the chapter will be saved to save_folder with the file name chapter_name.html\n",
    "    \"\"\"\n",
    "    \n",
    "    # send a request to the web server to get a response, r. \n",
    "    # r is the html soruce code of the webpage with the provide url\n",
    "    r=requests.get(url)\n",
    "    \n",
    "    # set the encoding of r \n",
    "    r.encoding='utf-8'\n",
    "    \n",
    "    # decoding r into readable text by doing r.text\n",
    "    # create a BeautifulSoup soup object to make r.text a nested data structure\n",
    "    soup = BeautifulSoup(r.text, 'html.parser')\n",
    "\n",
    "    \n",
    "    # find the text in the first tag of 'h2'; the text is the title of the chapter\n",
    "    title_h2 = soup.find_all(\"h2\")[0].get_text()\n",
    "    \n",
    "    # find what's in the tag 'div' with the attribute, 'class': 'forum-content mt-3';\n",
    "    # this is the text of the novel\n",
    "    content = soup.find('div',attrs={'class': 'forum-content mt-3'})\n",
    "    \n",
    "    # create a file and write the chapter title and the text to the file\n",
    "    with open(os.path.join(save_folder, f'{chapter_name}.html'), 'w', encoding=\"utf-8\") as f:\n",
    "        f.write(title_h2)\n",
    "        f.write(content.__str__())\n",
    "    \n",
    "    # make the file read-only\n",
    "    os.chmod(os.path.join(save_folder, f'{chapter_name}.html'), S_IREAD)"
   ]
  },
  {
   "cell_type": "markdown",
   "metadata": {},
   "source": [
    "# Now we are going to find the novel we want to download !"
   ]
  },
  {
   "cell_type": "markdown",
   "metadata": {},
   "source": [
    "#### Goal: create a folder with the name of the novel\n",
    "1. define url of the content page\n",
    "2. send requests to the server, and use the repsonse to create a BeatifulSoup object\n",
    "3. find the name of the novel\n",
    "4. create a folder with the name of hte novel if it doesn't exist"
   ]
  },
  {
   "cell_type": "code",
   "execution_count": 3,
   "metadata": {},
   "outputs": [],
   "source": [
    "# content_url is the main page of the novel with all chapters listed\n",
    "content_url=\"https://www.esjzone.cc/detail/1543764573.html\"\n",
    "\n",
    "# create the BeautifulSoup object (same process as explained in extract_html function)\n",
    "response = requests.get(content_url)\n",
    "response.encoding='utf-8'\n",
    "soup = BeautifulSoup(response.text, 'html.parser')\n",
    "\n",
    "# find the novel name\n",
    "novel_dict = soup.find('div', attrs={'class': 'product-gallery text-center mb-3'})\n",
    "novel_name = novel_dict.find('img', alt=True)['alt']\n",
    "\n",
    "# create a folder with the novel name if the folder isn't existed\n",
    "save_folder = os.path.join(\"ESJZone\", novel_name)\n",
    "if not os.path.exists(save_folder):\n",
    "    os.makedirs(save_folder)"
   ]
  },
  {
   "cell_type": "markdown",
   "metadata": {},
   "source": [
    "#### Goal: extract urls and the cahpter names of all chapters"
   ]
  },
  {
   "cell_type": "code",
   "execution_count": 4,
   "metadata": {},
   "outputs": [],
   "source": [
    "content = soup.find('div', attrs={'id': 'chapterList'})\n",
    "urls = content.find_all('a')\n",
    "chapters = content.find_all('p', attrs={'class': None})"
   ]
  },
  {
   "cell_type": "markdown",
   "metadata": {},
   "source": [
    "#### Goal: use the function to download the chapters of the novel iteratively\n",
    "1. check if there're illegal characters in the name of the chapter as a file name\n",
    "2. check if the name of the chapter is used before, add a suffix to the name if the current chapter name is used before\n",
    "3. call the function, extract_html, pass the url of each chapter, the folder that we want to save the novel and the chapter name iteratively"
   ]
  },
  {
   "cell_type": "code",
   "execution_count": 5,
   "metadata": {},
   "outputs": [
    {
     "name": "stderr",
     "output_type": "stream",
     "text": [
      "100%|██████████| 438/438 [05:55<00:00,  1.23it/s]\n"
     ]
    }
   ],
   "source": [
    "hash_map = {}\n",
    "skip = [2, 4, 6] # skip some chapters that are not in ESJZone page\n",
    "\n",
    "for i_chapter, chapter in enumerate(tqdm(chapters)):\n",
    "    if i_chapter in skip:\n",
    "        continue\n",
    "    chapter_name = chapter.get_text()\n",
    "    chapter_name = \"\".join(x for x in chapter_name if x.isalnum() or x in \"._-\")\n",
    "    if chapter_name not in hash_map:\n",
    "        hash_map[chapter_name] = 1\n",
    "        \n",
    "    else:\n",
    "        hash_map[chapter_name] = hash_map[chapter_name] + 1\n",
    "        chapter_name = chapter_name + f\"-{hash_map[chapter_name]}\"\n",
    "    \n",
    "    url = urls[i_chapter].get('href')\n",
    "    extract_html(url, save_folder, chapter_name)"
   ]
  }
 ],
 "metadata": {
  "kernelspec": {
   "display_name": "Python 3",
   "language": "python",
   "name": "python3"
  },
  "language_info": {
   "codemirror_mode": {
    "name": "ipython",
    "version": 3
   },
   "file_extension": ".py",
   "mimetype": "text/x-python",
   "name": "python",
   "nbconvert_exporter": "python",
   "pygments_lexer": "ipython3",
   "version": "3.8.5"
  }
 },
 "nbformat": 4,
 "nbformat_minor": 4
}
